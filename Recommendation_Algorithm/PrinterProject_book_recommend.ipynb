{
 "cells": [
  {
   "cell_type": "code",
   "execution_count": 362,
   "metadata": {
    "scrolled": false
   },
   "outputs": [
    {
     "name": "stdout",
     "output_type": "stream",
     "text": [
      "[{'MAX(`Id_Etudiant`)': 100}]\n",
      "101\n",
      "196\n"
     ]
    }
   ],
   "source": [
    "import pymysql.cursors\n",
    "\n",
    "# Connect to the database\n",
    "connection = pymysql.connect(host='localhost',\n",
    "                             user='root',\n",
    "                             password='',\n",
    "                             db='printerproject',\n",
    "                             cursorclass=pymysql.cursors.DictCursor)\n",
    "\n",
    "try:\n",
    "    with connection.cursor() as cursor:\n",
    "        # Read a single record\n",
    "        sql = \"SELECT `id_Etudiant`, `Livre_name`, `Livre_theme` FROM `history`, `books` WHERE books.ISBN = history.ISBN\"\n",
    "        cursor.execute(sql)\n",
    "        result = cursor. fetchall()\n",
    "        #print(result)\n",
    "        sql = \"SELECT `Id_Etudiant`, `Livre_theme`, COUNT(*) as C FROM `history`, `books` WHERE books.ISBN = history.ISBN GROUP BY Livre_theme, Id_Etudiant\"\n",
    "        cursor.execute(sql)\n",
    "        result2 = cursor. fetchall()\n",
    "        #print(result2)\n",
    "        sql = \"SELECT `Id_Etudiant`, `Livre_theme` FROM `history`, `books` WHERE books.ISBN = history.ISBN GROUP BY Livre_theme, Id_Etudiant\"\n",
    "        cursor.execute(sql)\n",
    "        result3 = cursor. fetchall()\n",
    "        #print(result3)\n",
    "        sql = \"SELECT MAX(`Id_Etudiant`)FROM `history`\"\n",
    "        cursor.execute(sql)\n",
    "        max_id = cursor. fetchall()\n",
    "        print(max_id)\n",
    "finally:\n",
    "    connection.close()\n",
    "#print(result3)\n",
    "themes_per_id = [];\n",
    "max_id[0]['MAX(`Id_Etudiant`)'] = max_id[0]['MAX(`Id_Etudiant`)'] + 1\n",
    "max_id_int = max_id[0]['MAX(`Id_Etudiant`)']\n",
    "print(max_id_int)\n",
    "print(len(result3))\n",
    "#for i in range(0, len(result3)):\n",
    "#    s = result3[i]['Livre_theme']\n",
    "#    result3[i]['Livre_theme']=[]\n",
    "#    result3[i]['Livre_theme'].append(s)\n",
    "for i in range(0, max_id_int):\n",
    "    l = len(result3)\n",
    "    for j in range(0, len(result3)):\n",
    "        if(result3[j]['Id_Etudiant'] == result3[i]['Id_Etudiant'] and j != i):\n",
    "            #result3[i]['Livre_theme'].append(result3[j]['Livre_theme'])\n",
    "            result3[i]['Livre_theme']+=\",\"\n",
    "            result3[i]['Livre_theme']+=(result3[j]['Livre_theme'])\n",
    "            result3[j]['Livre_theme'] = \"\"\n",
    "result4 = []\n",
    "for j in range(0, len(result3)):\n",
    "    if(result3[j]['Livre_theme'] != \"\"):\n",
    "        result3[j]['Livre_theme'] = [x for x in result3[j]['Livre_theme'].split(',') if x]\n",
    "        result4.append(result3[j])\n",
    "#print(result4)\n",
    "#print(result4[0]['Livre_theme'])\n",
    "#print(result4[73]['Livre_theme'])\n",
    "def get_max_length(array1, array2):\n",
    "    if(len(array1) > len(array2)):\n",
    "        return 1\n",
    "    return 2\n",
    "def count_different(array1, array2):\n",
    "    ans = 0\n",
    "    s1 = set(array1)\n",
    "    s2 = set(array2)\n",
    "    temp1 = [x for x in array1 if x not in s2]\n",
    "    temp2 = [x for x in array2 if x not in s1]\n",
    "    temp3 = temp1 + temp2\n",
    "    return temp3\n",
    "#print(count_different(result4[0]['Livre_theme'],result4[73]['Livre_theme']))\n",
    "from operator import itemgetter\n",
    "newlist = sorted(result4, key=itemgetter('Id_Etudiant')) \n",
    "#print(newlist)"
   ]
  },
  {
   "cell_type": "code",
   "execution_count": null,
   "metadata": {
    "collapsed": true
   },
   "outputs": [],
   "source": []
  },
  {
   "cell_type": "code",
   "execution_count": null,
   "metadata": {
    "collapsed": true
   },
   "outputs": [],
   "source": []
  },
  {
   "cell_type": "code",
   "execution_count": 363,
   "metadata": {
    "scrolled": false
   },
   "outputs": [
    {
     "name": "stdout",
     "output_type": "stream",
     "text": [
      "101\n",
      "[13.0, 12.0, 11.0, 10.0, 9.0, 8.0, 7.0, 0.0]\n"
     ]
    },
    {
     "name": "stderr",
     "output_type": "stream",
     "text": [
      "D:\\Anaconda3\\lib\\site-packages\\ipykernel_launcher.py:23: RuntimeWarning: All-NaN slice encountered\n"
     ]
    }
   ],
   "source": [
    "import numpy as np\n",
    "dist_matrix = np.zeros((max_id_int, max_id_int))\n",
    "dist_matrix[:] = np.nan\n",
    "print(max_id_int)\n",
    "def get_index(result, index):\n",
    "    ans = -1;\n",
    "    for i in range(len(result)):\n",
    "        if result[i]['Id_Etudiant'] == index:\n",
    "            ans = i\n",
    "            return ans\n",
    "    return ans\n",
    "        \n",
    "def distance_theme(result):\n",
    "    for i in range(1, max_id_int):\n",
    "        index_i_in_result = get_index(result, i)\n",
    "        if index_i_in_result != -1:\n",
    "            for j in range(1, max_id_int):\n",
    "                index_j_in_result = get_index(result, j) \n",
    "                if index_j_in_result != -1:\n",
    "                    dist_matrix[i][j] = len(count_different(result[index_i_in_result]['Livre_theme'], result[index_j_in_result]['Livre_theme']))\n",
    "                    #print(\"i=%d,j=%d, l=%d\" % (i, j, dist_matrix[i][j]))\n",
    "distance_theme(newlist)\n",
    "array_max = np.nanmax(dist_matrix, axis=1)\n",
    "array_max = np.nan_to_num(array_max)\n",
    "array_max = set(array_max)\n",
    "array_max = sorted(array_max, reverse=True)\n",
    "print(array_max)"
   ]
  },
  {
   "cell_type": "code",
   "execution_count": 364,
   "metadata": {},
   "outputs": [
    {
     "name": "stdout",
     "output_type": "stream",
     "text": [
      "[6, 38, 49]\n",
      "{6: [1, 3, 4, 6, 7, 8, 9, 11, 13, 16, 17, 19, 20, 21, 22, 23, 24, 25, 27, 28, 29, 30, 31, 32, 33, 34, 35, 36, 39, 40, 41, 42, 43, 44, 46, 47, 50, 52, 54, 55, 56, 58, 59, 60, 61, 62, 63, 64, 66, 67, 68, 70, 71, 72, 74, 75, 76, 77, 78, 79, 80, 81, 83, 85, 86, 89, 91, 93, 96, 97, 98, 100], 38: [5, 10, 12, 14, 18, 26, 38, 45, 48, 53, 73, 92, 94, 95], 49: [2, 15, 37, 49, 51, 57, 65, 69, 82, 84, 87, 88, 90, 99]}\n"
     ]
    },
    {
     "name": "stderr",
     "output_type": "stream",
     "text": [
      "D:\\Anaconda3\\lib\\site-packages\\ipykernel_launcher.py:29: RuntimeWarning: All-NaN axis encountered\n"
     ]
    }
   ],
   "source": [
    "import math\n",
    "k = 3 # number of clusters\n",
    "k_copy = k\n",
    "clusters_centers = []\n",
    "clusters_dic = {}\n",
    "\n",
    "# Randomly choose first two farthest Ids\n",
    "def choose_first_two_centers(max_id_int, array_max):\n",
    "    for i in range(1,max_id_int):\n",
    "        for j in range(1, max_id_int):\n",
    "            if dist_matrix[i][j] == array_max[0]:\n",
    "                clusters_centers.append(i)\n",
    "                clusters_centers.append(j)\n",
    "                return\n",
    "choose_first_two_centers(max_id_int, array_max)\n",
    "k -= 2\n",
    "dist_to_set = np.zeros((max_id_int, len(clusters_centers)))\n",
    "dist_to_set[:] = np.nan\n",
    "#choose remaining centers by calculating the distance to the set of the first two Ids\n",
    "\n",
    "def choose_farthest_next_centers(result, max_id_int, k, dist_to_set):\n",
    "    while k > 0:\n",
    "        for i in range(1,max_id_int):\n",
    "            index_i_in_result = get_index(result, i)\n",
    "            if index_i_in_result != -1:\n",
    "                for j in range(0, len(clusters_centers)):\n",
    "                    if i not in clusters_centers:\n",
    "                        dist_to_set[i][j] = len(count_different(result[index_i_in_result]['Livre_theme'], result[get_index(result, clusters_centers[j])]['Livre_theme']))\n",
    "        array_dist_to_set = np.nanmin(dist_to_set, axis=1)\n",
    "        array_dist_to_set = np.nan_to_num(array_dist_to_set)\n",
    "        next_center = np.argmax(array_dist_to_set)\n",
    "        clusters_centers.append(next_center)\n",
    "        k -= 1\n",
    "        dist_to_set = np.zeros((max_id_int, len(clusters_centers)))\n",
    "        dist_to_set[:] = np.nan\n",
    "\n",
    "choose_farthest_next_centers(newlist, max_id_int, k, dist_to_set)\n",
    "    \n",
    "for i in range(0,k_copy):\n",
    "    key = clusters_centers[i]\n",
    "    clusters_dic[key] = []\n",
    "\n",
    "def find_nearest(array,value):\n",
    "    idx = (np.abs(array-value)).argmin()\n",
    "    return idx\n",
    "\n",
    "for i in range(1, max_id_int):\n",
    "    values = []\n",
    "    for j in clusters_centers:\n",
    "        if not math.isnan(dist_matrix[i][j]):\n",
    "            values.append(dist_matrix[i][j])\n",
    "        else:\n",
    "            values.append(math.inf)\n",
    "    values = np.asarray(values)\n",
    "    key = find_nearest(values, 0)\n",
    "    clusters_dic[clusters_centers[key]].append(i)\n",
    "print(clusters_centers)\n",
    "print(clusters_dic)"
   ]
  },
  {
   "cell_type": "code",
   "execution_count": 366,
   "metadata": {},
   "outputs": [
    {
     "name": "stdout",
     "output_type": "stream",
     "text": [
      "eu tellus\n"
     ]
    }
   ],
   "source": [
    "import random\n",
    "\n",
    "def recommend(clusters_dic, clusters_centers, id_etudiant):\n",
    "    for i in clusters_centers:\n",
    "        if id_etudiant in clusters_dic[i]:\n",
    "            near_id = random.choice(clusters_dic[i])\n",
    "            while near_id == id_etudiant:\n",
    "                near_id = random.choice(clusters_dic[i])\n",
    "            return near_id\n",
    "    id_generated = id_etudiant\n",
    "    while id_generated == id_etudiant:\n",
    "        id_generated = random.randint(1,max_id_int-2)\n",
    "    return id_generated\n",
    "id_recommended = recommend(clusters_dic, clusters_centers, 2)\n",
    "recommended_theme = \"\"\n",
    "for i in range(0, len(newlist)):\n",
    "    if(newlist[i]['Id_Etudiant'] == id_recommended):\n",
    "        recommended_theme = random.choice(newlist[i]['Livre_theme'])\n",
    "        break\n",
    "# Connect to the database\n",
    "connection = pymysql.connect(host='localhost',\n",
    "                             user='root',\n",
    "                             password='',\n",
    "                             db='printerproject',\n",
    "                             cursorclass=pymysql.cursors.DictCursor)\n",
    "\n",
    "try:\n",
    "    with connection.cursor() as cursor:\n",
    "        # Read a single record\n",
    "        sql = \"SELECT `Livre_name` FROM `books` WHERE books.Livre_theme = '\" + recommended_theme + \"'\"\n",
    "        cursor.execute(sql)\n",
    "        books = cursor. fetchall()\n",
    "finally:\n",
    "    connection.close()\n",
    "if(books):\n",
    "    random_recommended_book = random.choice(books)['Livre_name']\n",
    "else:\n",
    "    while(not books):\n",
    "        random_theme = random.choice(newlist)['Livre_theme'][0]\n",
    "        # Connect to the database\n",
    "        connection = pymysql.connect(host='localhost',\n",
    "                                     user='root',\n",
    "                                     password='',\n",
    "                                     db='printerproject',\n",
    "                                     cursorclass=pymysql.cursors.DictCursor)\n",
    "\n",
    "        try:\n",
    "            with connection.cursor() as cursor:\n",
    "                # Read a single record\n",
    "                sql = \"SELECT `Livre_name` FROM `books` WHERE books.Livre_theme = '\" + random_theme + \"'\"\n",
    "                cursor.execute(sql)\n",
    "                books = cursor. fetchall()\n",
    "        finally:\n",
    "            connection.close()\n",
    "    random_recommended_book = random.choice(books)['Livre_name']\n",
    "print(random_recommended_book)"
   ]
  },
  {
   "cell_type": "code",
   "execution_count": 2,
   "metadata": {
    "collapsed": true
   },
   "outputs": [],
   "source": [
    "from PIL import Image\n",
    "img = Image.open('6.png').convert('LA')\n",
    "img.save('6Gray.png')\n",
    "#https://raspberrypi.stackexchange.com/questions/45570/how-do-i-make-serial-work-on-the-raspberry-pi3\n",
    "#De not change \"root=/dev/mmcblk0p2\""
   ]
  }
 ],
 "metadata": {
  "kernelspec": {
   "display_name": "Python 3",
   "language": "python",
   "name": "python3"
  },
  "language_info": {
   "codemirror_mode": {
    "name": "ipython",
    "version": 3
   },
   "file_extension": ".py",
   "mimetype": "text/x-python",
   "name": "python",
   "nbconvert_exporter": "python",
   "pygments_lexer": "ipython3",
   "version": "3.6.2"
  }
 },
 "nbformat": 4,
 "nbformat_minor": 2
}
